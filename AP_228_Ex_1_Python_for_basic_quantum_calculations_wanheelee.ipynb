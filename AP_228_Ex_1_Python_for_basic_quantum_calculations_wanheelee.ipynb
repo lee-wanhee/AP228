{
  "nbformat": 4,
  "nbformat_minor": 0,
  "metadata": {
    "colab": {
      "name": "AP 228 - Ex 1 - Python for basic quantum calculations wanheelee.ipynb",
      "provenance": [],
      "collapsed_sections": [],
      "include_colab_link": true
    },
    "kernelspec": {
      "name": "python3",
      "display_name": "Python 3"
    }
  },
  "cells": [
    {
      "cell_type": "markdown",
      "metadata": {
        "id": "view-in-github",
        "colab_type": "text"
      },
      "source": [
        "<a href=\"https://colab.research.google.com/github/wanhee-lee-stanford/AP228/blob/Week-1/AP_228_Ex_1_Python_for_basic_quantum_calculations_wanheelee.ipynb\" target=\"_parent\"><img src=\"https://colab.research.google.com/assets/colab-badge.svg\" alt=\"Open In Colab\"/></a>"
      ]
    },
    {
      "cell_type": "markdown",
      "metadata": {
        "id": "C17QZYJ98vo2"
      },
      "source": [
        "# Python Primer for Quantum Calculations\r\n",
        "\r\n",
        "In this notebook we introduce python packages that help implement the matrix representation of operators. \r\n",
        "\r\n",
        "If this is your first time using Python, [click this link](https://www.w3schools.com/python/default.asp) and go through the following sections: \"Python Tutorial\", \"Introduction to NumPy\", and \"Introduction to Matplotlib\". You may use any other reference as well."
      ]
    },
    {
      "cell_type": "code",
      "metadata": {
        "id": "f_UV3DEdd8Ia"
      },
      "source": [
        "import matplotlib.pyplot as plt\n",
        "import numpy as np\n",
        "from scipy import linalg\n"
      ],
      "execution_count": null,
      "outputs": []
    },
    {
      "cell_type": "markdown",
      "metadata": {
        "id": "yROcu_M0pGKt"
      },
      "source": [
        "# Definitions of operators\n",
        "\n",
        "Here we define functions for the creation/annhilation operators $\\hat{a}^\\dagger,\\hat{a}$, as well as the Pauli operators $\\hat{\\sigma}_j$ for $j=x,y,z$. \n",
        "\n",
        "Think about why the creation/annhilation operators have an input argument, whereas the pauli matrices do not."
      ]
    },
    {
      "cell_type": "code",
      "metadata": {
        "id": "b8sZhmBGeFsg"
      },
      "source": [
        "## Creation operator \n",
        "def ad_op(N):\n",
        "    ad = np.zeros((N,N))\n",
        "    for k in range(N-1):\n",
        "        ad[k+1,k]=np.sqrt(k+1)\n",
        "    return np.matrix(ad)\n",
        "\n",
        "# Annhilation operator\n",
        "def a_op(N):\n",
        "    ad = ad_op(N)\n",
        "    return ad.transpose()\n",
        "\n",
        "\n",
        "## Pauli Matrices\n",
        "\n",
        "def sigmax():\n",
        "    sx = np.zeros((2,2),dtype=complex) # it is important to define as complex matrices!\n",
        "    sx[0,1]=1\n",
        "    sx[1,0]=1\n",
        "    return np.matrix(sx)\n",
        "\n",
        "def sigmaz():\n",
        "    sz = np.zeros((2,2),dtype=complex)\n",
        "    sz[0,0]=1\n",
        "    sz[1,1]=-1\n",
        "    return np.matrix(sz)\n",
        "\n",
        "def sigmay():\n",
        "    sy = np.zeros((2,2),dtype=complex)\n",
        "    sy[0,1]=-1j\n",
        "    sy[1,0]=1j\n",
        "    return np.matrix(sy)"
      ],
      "execution_count": null,
      "outputs": []
    },
    {
      "cell_type": "markdown",
      "metadata": {
        "id": "tlnJFVtipcpf"
      },
      "source": [
        "# Harmonic oscillator Hamiltonian and evolution\n",
        "\n",
        "We choose a size $N$ for our Fock space. We can represent our Hamiltonian as shown below, and even use matrix exponentiation to find the propagator $U$."
      ]
    },
    {
      "cell_type": "code",
      "metadata": {
        "id": "mukyrT-zeHQD"
      },
      "source": [
        "# dimensionality of the fock space\n",
        "N = 5 \n",
        "\n",
        "# number operator\n",
        "n_op = ad_op(N)*a_op(N)\n",
        "\n",
        "# frequency of oscillation (rad/sec)\n",
        "omega = 1\n",
        "\n",
        "# time elapsed pi (sec)\n",
        "t= np.pi\n",
        "\n",
        "# define hamiltonian\n",
        "H = omega*(n_op+np.eye(5)*0.5)\n",
        "\n",
        "# define propagator\n",
        "U = np.matrix(linalg.expm(-1j*H*t))\n",
        "\n",
        "# initialize in ground state\n",
        "psi = np.matrix(np.zeros((N,1)));\n",
        "psi[0]=1\n",
        "\n",
        "# see what propagator does to ground state |0>\n",
        "print()\n",
        "print(psi)\n",
        "print()\n",
        "print(U*psi)\n",
        "print()\n",
        "print(\"---\")\n",
        "\n",
        "# initialize in first excited state |1>\n",
        "psi = np.matrix(np.zeros((N,1)));\n",
        "psi[1]=1\n",
        "\n",
        "# see what various operators do to state |1>\n",
        "print()\n",
        "print(psi)\n",
        "print()\n",
        "print(ad_op(N))\n",
        "print()\n",
        "print(ad_op(N)*psi)\n",
        "print()"
      ],
      "execution_count": null,
      "outputs": []
    },
    {
      "cell_type": "markdown",
      "metadata": {
        "id": "26ckcg0npbwZ"
      },
      "source": [
        "# Coordinate Rotations\n",
        "\n",
        "We can use python's linear algebra packages to exponentiate matrices. \n",
        "\n",
        "A rotation by angle $\\theta$ about the $x$-axis is given by $$\\exp(i\\hat{\\sigma}_x\\theta/2).$$ \n",
        "\n",
        "Below we code the situation when $\\theta=\\pi/2$, $$\\exp(i\\hat{\\sigma}_x\\pi/4).$$"
      ]
    },
    {
      "cell_type": "code",
      "metadata": {
        "id": "PwZrRrBCePhn",
        "colab": {
          "base_uri": "https://localhost:8080/"
        },
        "outputId": "2d3ea122-9852-470f-97ce-ecd0aa54723f"
      },
      "source": [
        "sigmax()*sigmay()\n",
        "\n",
        "linalg.expm(1j*sigmax()*np.pi/4)\n"
      ],
      "execution_count": null,
      "outputs": [
        {
          "output_type": "execute_result",
          "data": {
            "text/plain": [
              "array([[0.70710678+0.j        , 0.        +0.70710678j],\n",
              "       [0.        +0.70710678j, 0.70710678+0.j        ]])"
            ]
          },
          "metadata": {
            "tags": []
          },
          "execution_count": 4
        }
      ]
    },
    {
      "cell_type": "markdown",
      "metadata": {
        "id": "E8QOhsLqqqUm"
      },
      "source": [
        "### Exercises\n",
        "\n",
        "1. Familiarize yourself with python and the functions in this notebook.\n",
        "\n",
        "2. Write python function called `D_op(alpha,N)` that generates the displacement operator.\n",
        "\n",
        "3. Write a python function called `Parity(N)` which generates the Parity operator.\n",
        "\n",
        "\n",
        "#### Bonus\n",
        "\n",
        "4. The Hadamard matrix is given by $$H=\\frac{1}{\\sqrt{2}}\\begin{pmatrix}\n",
        "1 & 1\\\\\n",
        "1 & -1 \n",
        "\\end{pmatrix}. $$ Try to express this as a sequence of rotations about  $x$, $y$, $z$."
      ]
    },
    {
      "cell_type": "code",
      "metadata": {
        "id": "5ZlFcq3IG40j"
      },
      "source": [
        ""
      ],
      "execution_count": null,
      "outputs": []
    }
  ]
}