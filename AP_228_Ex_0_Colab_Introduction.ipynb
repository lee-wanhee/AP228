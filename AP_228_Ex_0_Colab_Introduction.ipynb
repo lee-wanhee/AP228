{
  "nbformat": 4,
  "nbformat_minor": 0,
  "metadata": {
    "colab": {
      "name": "AP 228 - Ex 0 - Colab Introduction.ipynb",
      "provenance": [],
      "collapsed_sections": [],
      "toc_visible": true,
      "include_colab_link": true
    },
    "kernelspec": {
      "name": "python3",
      "display_name": "Python 3"
    },
    "accelerator": "GPU"
  },
  "cells": [
    {
      "cell_type": "markdown",
      "metadata": {
        "id": "view-in-github",
        "colab_type": "text"
      },
      "source": [
        "<a href=\"https://colab.research.google.com/github/wanhee-lee-stanford/AP228/blob/Ex-0/AP_228_Ex_0_Colab_Introduction.ipynb\" target=\"_parent\"><img src=\"https://colab.research.google.com/assets/colab-badge.svg\" alt=\"Open In Colab\"/></a>"
      ]
    },
    {
      "cell_type": "markdown",
      "metadata": {
        "id": "aQl1f0sJ6sAD"
      },
      "source": [
        ""
      ]
    },
    {
      "cell_type": "markdown",
      "metadata": {
        "id": "054sbUkob2c3"
      },
      "source": [
        "# Google Colab Primer"
      ]
    },
    {
      "cell_type": "markdown",
      "metadata": {
        "id": "pmECBCuVdu8N"
      },
      "source": [
        "## What is Google Colab\n",
        "\n",
        "Google Colab is a web-based iPython Notebook service for interactive coding. Google Colab offers **free access to Nvidia K80 GPU**, and it is becoming a popular tool for quick prototyping and visualization. Colab easily accessible and it is very similar to Jupyter Notebook, another very popular tool for interactive coding. \n",
        "\n",
        "In this course, we will use Google Colab for our weekly Python exercises. We decided to use this tool because it is a cloud-based platform, so that means any device with an internet connection can use it."
      ]
    },
    {
      "cell_type": "markdown",
      "metadata": {
        "id": "ES75IrSxB3Fk"
      },
      "source": [
        "# Colab Basics"
      ]
    },
    {
      "cell_type": "markdown",
      "metadata": {
        "id": "TU6draQQrq5M"
      },
      "source": [
        "If you are viewing this file read-only (i.e. using the shared link), click **File > Open in playground mode**. Playground mode opens a copy of the read-only notebook in a temporary session that doesn't save the notebook. If you want to save any changes, you must **save the notebook** (this is covered below). "
      ]
    },
    {
      "cell_type": "markdown",
      "metadata": {
        "id": "48jvUKSArw0k"
      },
      "source": [
        "\n",
        "A Colab file is composed of 'cells' which are blocks of code that can be run independently. Cells can be added by clicking the '+' buttons on the top left-hand side. \n",
        "\n",
        "You can select a cell by clicking on it. Below is an example of code cell."
      ]
    },
    {
      "cell_type": "code",
      "metadata": {
        "id": "WWf-TXIEEDVv",
        "outputId": "dba963aa-8d08-4240-9320-d261780b0646",
        "colab": {
          "base_uri": "https://localhost:8080/"
        }
      },
      "source": [
        "print(\"This is 'code' cell.\")\n",
        "\n",
        "a = 4\n",
        "print(\"a: %d\" % a)"
      ],
      "execution_count": 2,
      "outputs": [
        {
          "output_type": "stream",
          "text": [
            "This is 'code' cell.\n",
            "a: 4\n"
          ],
          "name": "stdout"
        }
      ]
    },
    {
      "cell_type": "markdown",
      "metadata": {
        "id": "81E69UM6Mgxb"
      },
      "source": [
        "## Running and Organizing Cells\n",
        "\n",
        "There are several options for running a cell or group of cells. These options are listed under the **Runtime** menu of the header. \n",
        "\n",
        "Alternatively, a single cell can be executed by the 'Run' button on the left side. \n",
        "\n",
        "Try running the above example code cell. Then, run the code cell below. "
      ]
    },
    {
      "cell_type": "code",
      "metadata": {
        "id": "pNCJOXTum_bm",
        "outputId": "f7c8ec15-9cb6-4336-d016-241fa3e308c9",
        "colab": {
          "base_uri": "https://localhost:8080/"
        }
      },
      "source": [
        "b = 5 * a\n",
        "print(\"a: %d\" % b)\n",
        "print(\"b: %d\" % b)"
      ],
      "execution_count": 3,
      "outputs": [
        {
          "output_type": "stream",
          "text": [
            "a: 20\n",
            "b: 20\n"
          ],
          "name": "stdout"
        }
      ]
    },
    {
      "cell_type": "markdown",
      "metadata": {
        "id": "32do8DDcnhqs"
      },
      "source": [
        "Note that each cells can be run independently, and if there is a change, only the cells related to that change need to be run again. \n",
        "\n",
        "Therefore, it is important to decompose your code into blocks of cells, instead of writing everything in a single cell. This modular approach makes it easy to change parts of the code without re-running everything. "
      ]
    },
    {
      "cell_type": "markdown",
      "metadata": {
        "id": "Ga5KS3DBmvop"
      },
      "source": [
        "## Saving and Exporting Colab file\n",
        "\n",
        "\n"
      ]
    },
    {
      "cell_type": "markdown",
      "metadata": {
        "id": "VGJ8HgMhE61D"
      },
      "source": [
        "As mentioned above, Playground only provides temporary session, so in order to save any changes, notebook files must be saved. \n",
        "\n",
        "The easiest way to save Colab notebook is to save it in your Google Drive. Click **File > Save a copy in Drive**. Once you saved a copy of this tutorial, you can open it from your Google Drive or Colab dashboard. \n",
        "\n",
        "Try creating a folder for this course (e.g. AP 228) in your Google Drive and save all Colab files in there to reduce clutter. "
      ]
    },
    {
      "cell_type": "markdown",
      "metadata": {
        "id": "fRI4jVyo_-zI"
      },
      "source": [
        "Colab can be exported as a notebook file or Python file by **File > Download .ipynb** or **File > Download .py**. Exported notebook files can be reloaded into Google Colab or used in Jupyter Notebook. "
      ]
    },
    {
      "cell_type": "markdown",
      "metadata": {
        "id": "DByG4RzaAZtP"
      },
      "source": [
        "To save Colab file as a PDF, **File > Print** and then save as PDF. \n",
        "\n",
        "For example, in Google Chrome, click 'Open PDF in Preview'."
      ]
    },
    {
      "cell_type": "markdown",
      "metadata": {
        "id": "hisAbf-8Iz_J"
      },
      "source": [
        "You can share Colab using sharable link. Click 'Share' button on the top right corner and click 'Get sharable link'. "
      ]
    }
  ]
}